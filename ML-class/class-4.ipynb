{
 "cells": [
  {
   "cell_type": "markdown",
   "id": "fafe6811",
   "metadata": {},
   "source": [
    "## Import Pandas & OS"
   ]
  },
  {
   "cell_type": "code",
   "execution_count": 92,
   "id": "4b8e0df2",
   "metadata": {},
   "outputs": [],
   "source": [
    "import pandas as pd\n",
    "import os"
   ]
  },
  {
   "cell_type": "markdown",
   "id": "aa7649f1",
   "metadata": {},
   "source": [
    "## Read CSV File & Showing First 5 Rows"
   ]
  },
  {
   "cell_type": "code",
   "execution_count": 93,
   "id": "b472a989",
   "metadata": {},
   "outputs": [
    {
     "data": {
      "text/html": [
       "<div>\n",
       "<style scoped>\n",
       "    .dataframe tbody tr th:only-of-type {\n",
       "        vertical-align: middle;\n",
       "    }\n",
       "\n",
       "    .dataframe tbody tr th {\n",
       "        vertical-align: top;\n",
       "    }\n",
       "\n",
       "    .dataframe thead th {\n",
       "        text-align: right;\n",
       "    }\n",
       "</style>\n",
       "<table border=\"1\" class=\"dataframe\">\n",
       "  <thead>\n",
       "    <tr style=\"text-align: right;\">\n",
       "      <th></th>\n",
       "      <th>Height</th>\n",
       "      <th>Weight</th>\n",
       "    </tr>\n",
       "  </thead>\n",
       "  <tbody>\n",
       "    <tr>\n",
       "      <th>0</th>\n",
       "      <td>1.47</td>\n",
       "      <td>52.21</td>\n",
       "    </tr>\n",
       "    <tr>\n",
       "      <th>1</th>\n",
       "      <td>1.50</td>\n",
       "      <td>53.12</td>\n",
       "    </tr>\n",
       "    <tr>\n",
       "      <th>2</th>\n",
       "      <td>1.52</td>\n",
       "      <td>54.50</td>\n",
       "    </tr>\n",
       "    <tr>\n",
       "      <th>3</th>\n",
       "      <td>1.55</td>\n",
       "      <td>55.84</td>\n",
       "    </tr>\n",
       "    <tr>\n",
       "      <th>4</th>\n",
       "      <td>1.57</td>\n",
       "      <td>58.00</td>\n",
       "    </tr>\n",
       "  </tbody>\n",
       "</table>\n",
       "</div>"
      ],
      "text/plain": [
       "   Height  Weight\n",
       "0    1.47   52.21\n",
       "1    1.50   53.12\n",
       "2    1.52   54.50\n",
       "3    1.55   55.84\n",
       "4    1.57   58.00"
      ]
     },
     "execution_count": 93,
     "metadata": {},
     "output_type": "execute_result"
    }
   ],
   "source": [
    "df = pd.read_csv('Body.csv')\n",
    "df.head(5)"
   ]
  },
  {
   "cell_type": "markdown",
   "id": "68b199b4",
   "metadata": {},
   "source": [
    "## Showing Last 5 Rows"
   ]
  },
  {
   "cell_type": "code",
   "execution_count": 94,
   "id": "a2de7ef7",
   "metadata": {},
   "outputs": [
    {
     "data": {
      "text/html": [
       "<div>\n",
       "<style scoped>\n",
       "    .dataframe tbody tr th:only-of-type {\n",
       "        vertical-align: middle;\n",
       "    }\n",
       "\n",
       "    .dataframe tbody tr th {\n",
       "        vertical-align: top;\n",
       "    }\n",
       "\n",
       "    .dataframe thead th {\n",
       "        text-align: right;\n",
       "    }\n",
       "</style>\n",
       "<table border=\"1\" class=\"dataframe\">\n",
       "  <thead>\n",
       "    <tr style=\"text-align: right;\">\n",
       "      <th></th>\n",
       "      <th>Height</th>\n",
       "      <th>Weight</th>\n",
       "    </tr>\n",
       "  </thead>\n",
       "  <tbody>\n",
       "    <tr>\n",
       "      <th>26</th>\n",
       "      <td>1.81</td>\n",
       "      <td>62.00</td>\n",
       "    </tr>\n",
       "    <tr>\n",
       "      <th>27</th>\n",
       "      <td>1.70</td>\n",
       "      <td>65.90</td>\n",
       "    </tr>\n",
       "    <tr>\n",
       "      <th>28</th>\n",
       "      <td>1.79</td>\n",
       "      <td>80.65</td>\n",
       "    </tr>\n",
       "    <tr>\n",
       "      <th>29</th>\n",
       "      <td>1.80</td>\n",
       "      <td>71.00</td>\n",
       "    </tr>\n",
       "    <tr>\n",
       "      <th>30</th>\n",
       "      <td>1.81</td>\n",
       "      <td>74.50</td>\n",
       "    </tr>\n",
       "  </tbody>\n",
       "</table>\n",
       "</div>"
      ],
      "text/plain": [
       "    Height  Weight\n",
       "26    1.81   62.00\n",
       "27    1.70   65.90\n",
       "28    1.79   80.65\n",
       "29    1.80   71.00\n",
       "30    1.81   74.50"
      ]
     },
     "execution_count": 94,
     "metadata": {},
     "output_type": "execute_result"
    }
   ],
   "source": [
    "df.tail()"
   ]
  },
  {
   "cell_type": "markdown",
   "id": "d89cc351",
   "metadata": {},
   "source": [
    "##  Current Working Direction"
   ]
  },
  {
   "cell_type": "code",
   "execution_count": 95,
   "id": "67a037db",
   "metadata": {},
   "outputs": [
    {
     "data": {
      "text/plain": [
       "'C:\\\\Users\\\\Anik Chakraborty\\\\M. Learning'"
      ]
     },
     "execution_count": 95,
     "metadata": {},
     "output_type": "execute_result"
    }
   ],
   "source": [
    "os.getcwd()"
   ]
  },
  {
   "cell_type": "markdown",
   "id": "979ea912",
   "metadata": {},
   "source": [
    "## Import Matplotlib & Numpy"
   ]
  },
  {
   "cell_type": "code",
   "execution_count": 96,
   "id": "fdf6c88d",
   "metadata": {},
   "outputs": [],
   "source": [
    "import matplotlib.pyplot as plt\n",
    "import numpy as np"
   ]
  },
  {
   "cell_type": "markdown",
   "id": "cf36d3c6",
   "metadata": {},
   "source": [
    "## Graph"
   ]
  },
  {
   "cell_type": "code",
   "execution_count": 97,
   "id": "cc0737c7",
   "metadata": {},
   "outputs": [
    {
     "data": {
      "text/plain": [
       "<matplotlib.collections.PathCollection at 0x1ff2b881d90>"
      ]
     },
     "execution_count": 97,
     "metadata": {},
     "output_type": "execute_result"
    },
    {
     "data": {
      "image/png": "[encoded data removed]",
      "text/plain": [
       "<Figure size 432x288 with 1 Axes>"
      ]
     },
     "metadata": {
      "needs_background": "light"
     },
     "output_type": "display_data"
    }
   ],
   "source": [
    "plt.xlabel('Height')\n",
    "plt.ylabel('Weight')\n",
    "plt.scatter(df['Height'],df['Weight'])"
   ]
  },
  {
   "cell_type": "code",
   "execution_count": 98,
   "id": "2fc1548e",
   "metadata": {},
   "outputs": [],
   "source": [
    "x = df[['Weight']]\n",
    "y = df[['Height']]"
   ]
  },
  {
   "cell_type": "markdown",
   "id": "3ecaceca",
   "metadata": {},
   "source": [
    "## Splitting Training Data & Testing Data"
   ]
  },
  {
   "cell_type": "code",
   "execution_count": 99,
   "id": "a7008518",
   "metadata": {},
   "outputs": [],
   "source": [
    "from sklearn.model_selection import train_test_split"
   ]
  },
  {
   "cell_type": "code",
   "execution_count": 100,
   "id": "70a956fb",
   "metadata": {},
   "outputs": [],
   "source": [
    "xtrain, xtest, ytrain, ytest  = train_test_split(x,y,train_size = .70)"
   ]
  },
  {
   "cell_type": "code",
   "execution_count": 101,
   "id": "a5c7ca7c",
   "metadata": {},
   "outputs": [
    {
     "data": {
      "text/html": [
       "<div>\n",
       "<style scoped>\n",
       "    .dataframe tbody tr th:only-of-type {\n",
       "        vertical-align: middle;\n",
       "    }\n",
       "\n",
       "    .dataframe tbody tr th {\n",
       "        vertical-align: top;\n",
       "    }\n",
       "\n",
       "    .dataframe thead th {\n",
       "        text-align: right;\n",
       "    }\n",
       "</style>\n",
       "<table border=\"1\" class=\"dataframe\">\n",
       "  <thead>\n",
       "    <tr style=\"text-align: right;\">\n",
       "      <th></th>\n",
       "      <th>Weight</th>\n",
       "    </tr>\n",
       "  </thead>\n",
       "  <tbody>\n",
       "    <tr>\n",
       "      <th>28</th>\n",
       "      <td>80.65</td>\n",
       "    </tr>\n",
       "    <tr>\n",
       "      <th>2</th>\n",
       "      <td>54.50</td>\n",
       "    </tr>\n",
       "    <tr>\n",
       "      <th>14</th>\n",
       "      <td>74.46</td>\n",
       "    </tr>\n",
       "    <tr>\n",
       "      <th>22</th>\n",
       "      <td>60.00</td>\n",
       "    </tr>\n",
       "    <tr>\n",
       "      <th>1</th>\n",
       "      <td>53.12</td>\n",
       "    </tr>\n",
       "  </tbody>\n",
       "</table>\n",
       "</div>"
      ],
      "text/plain": [
       "    Weight\n",
       "28   80.65\n",
       "2    54.50\n",
       "14   74.46\n",
       "22   60.00\n",
       "1    53.12"
      ]
     },
     "execution_count": 101,
     "metadata": {},
     "output_type": "execute_result"
    }
   ],
   "source": [
    "xtrain.head()"
   ]
  },
  {
   "cell_type": "code",
   "execution_count": 102,
   "id": "6408a3e1",
   "metadata": {},
   "outputs": [
    {
     "data": {
      "text/html": [
       "<div>\n",
       "<style scoped>\n",
       "    .dataframe tbody tr th:only-of-type {\n",
       "        vertical-align: middle;\n",
       "    }\n",
       "\n",
       "    .dataframe tbody tr th {\n",
       "        vertical-align: top;\n",
       "    }\n",
       "\n",
       "    .dataframe thead th {\n",
       "        text-align: right;\n",
       "    }\n",
       "</style>\n",
       "<table border=\"1\" class=\"dataframe\">\n",
       "  <thead>\n",
       "    <tr style=\"text-align: right;\">\n",
       "      <th></th>\n",
       "      <th>Height</th>\n",
       "    </tr>\n",
       "  </thead>\n",
       "  <tbody>\n",
       "    <tr>\n",
       "      <th>28</th>\n",
       "      <td>1.79</td>\n",
       "    </tr>\n",
       "    <tr>\n",
       "      <th>2</th>\n",
       "      <td>1.52</td>\n",
       "    </tr>\n",
       "    <tr>\n",
       "      <th>14</th>\n",
       "      <td>1.83</td>\n",
       "    </tr>\n",
       "    <tr>\n",
       "      <th>22</th>\n",
       "      <td>1.66</td>\n",
       "    </tr>\n",
       "    <tr>\n",
       "      <th>1</th>\n",
       "      <td>1.50</td>\n",
       "    </tr>\n",
       "  </tbody>\n",
       "</table>\n",
       "</div>"
      ],
      "text/plain": [
       "    Height\n",
       "28    1.79\n",
       "2     1.52\n",
       "14    1.83\n",
       "22    1.66\n",
       "1     1.50"
      ]
     },
     "execution_count": 102,
     "metadata": {},
     "output_type": "execute_result"
    }
   ],
   "source": [
    "ytrain.head()"
   ]
  },
  {
   "cell_type": "code",
   "execution_count": 103,
   "id": "ca71f216",
   "metadata": {},
   "outputs": [
    {
     "data": {
      "text/plain": [
       "(21, 1)"
      ]
     },
     "execution_count": 103,
     "metadata": {},
     "output_type": "execute_result"
    }
   ],
   "source": [
    "xtrain.shape"
   ]
  },
  {
   "cell_type": "markdown",
   "id": "52b21dde",
   "metadata": {},
   "source": [
    "# Liner Regression"
   ]
  },
  {
   "cell_type": "code",
   "execution_count": 104,
   "id": "8aafa292",
   "metadata": {},
   "outputs": [],
   "source": [
    "from sklearn.linear_model import LinearRegression\n",
    "reg = LinearRegression()"
   ]
  },
  {
   "cell_type": "markdown",
   "id": "f38f6735",
   "metadata": {},
   "source": [
    "## Traing the model"
   ]
  },
  {
   "cell_type": "code",
   "execution_count": 105,
   "id": "0254d1b8",
   "metadata": {},
   "outputs": [
    {
     "data": {
      "text/plain": [
       "LinearRegression()"
      ]
     },
     "execution_count": 105,
     "metadata": {},
     "output_type": "execute_result"
    }
   ],
   "source": [
    "reg.fit(xtrain,ytrain)"
   ]
  },
  {
   "cell_type": "markdown",
   "id": "3bf9ec73",
   "metadata": {},
   "source": [
    "## Prediction"
   ]
  },
  {
   "cell_type": "code",
   "execution_count": 106,
   "id": "a099288a",
   "metadata": {},
   "outputs": [
    {
     "data": {
      "text/plain": [
       "array([[1.73847219]])"
      ]
     },
     "execution_count": 106,
     "metadata": {},
     "output_type": "execute_result"
    }
   ],
   "source": [
    "reg.predict([[71.00]])"
   ]
  },
  {
   "cell_type": "markdown",
   "id": "533327ad",
   "metadata": {},
   "source": [
    "## Find the result using equation"
   ]
  },
  {
   "cell_type": "code",
   "execution_count": 107,
   "id": "9d16b9e2",
   "metadata": {},
   "outputs": [
    {
     "data": {
      "text/plain": [
       "array([[1.73847219]])"
      ]
     },
     "execution_count": 107,
     "metadata": {},
     "output_type": "execute_result"
    }
   ],
   "source": [
    "# y = mx + c\n",
    "c = reg.intercept_\n",
    "m = reg.coef_\n",
    "x = 71.00\n",
    "y = m*x + c\n",
    "y"
   ]
  },
  {
   "cell_type": "markdown",
   "id": "6622e7ae",
   "metadata": {},
   "source": [
    "## Prediction Error"
   ]
  },
  {
   "cell_type": "code",
   "execution_count": 108,
   "id": "25796ef3",
   "metadata": {},
   "outputs": [
    {
     "data": {
      "text/plain": [
       "array([[1.55744254],\n",
       "       [1.64044035],\n",
       "       [1.60739032],\n",
       "       [1.71238006],\n",
       "       [1.73847219],\n",
       "       [1.55011189],\n",
       "       [1.50500979],\n",
       "       [1.72505338],\n",
       "       [1.52103781],\n",
       "       [1.6266488 ]])"
      ]
     },
     "execution_count": 108,
     "metadata": {},
     "output_type": "execute_result"
    }
   ],
   "source": [
    "prediction = reg.predict(xtest)\n",
    "prediction"
   ]
  },
  {
   "cell_type": "code",
   "execution_count": 109,
   "id": "281ab3fa",
   "metadata": {},
   "outputs": [],
   "source": [
    "from sklearn.metrics import mean_squared_error"
   ]
  },
  {
   "cell_type": "code",
   "execution_count": 110,
   "id": "10447d2c",
   "metadata": {},
   "outputs": [
    {
     "data": {
      "text/plain": [
       "0.00512380351778472"
      ]
     },
     "execution_count": 110,
     "metadata": {},
     "output_type": "execute_result"
    }
   ],
   "source": [
    "mse = mean_squared_error(ytest,prediction)\n",
    "mse"
   ]
  },
  {
   "cell_type": "markdown",
   "id": "99ed3c96",
   "metadata": {},
   "source": [
    "## Best fit Line"
   ]
  },
  {
   "cell_type": "code",
   "execution_count": 111,
   "id": "0327987a",
   "metadata": {},
   "outputs": [
    {
     "data": {
      "text/plain": [
       "<matplotlib.collections.PathCollection at 0x1ff2b291790>"
      ]
     },
     "execution_count": 111,
     "metadata": {},
     "output_type": "execute_result"
    },
    {
     "data": {
      "image/png": "[encoded data removed]",
      "text/plain": [
       "<Figure size 432x288 with 1 Axes>"
      ]
     },
     "metadata": {
      "needs_background": "light"
     },
     "output_type": "display_data"
    }
   ],
   "source": [
    "plt.plot(df['Weight'], reg.predict(df[['Weight']]))\n",
    "plt.xlabel('Height')\n",
    "plt.ylabel('Weight')\n",
    "plt.scatter(df['Height'],df['Weight'],color='green')"
   ]
  },
  {
   "cell_type": "markdown",
   "id": "7a4ba056",
   "metadata": {},
   "source": [
    "## Checking result"
   ]
  },
  {
   "cell_type": "code",
   "execution_count": 112,
   "id": "e088bdfc",
   "metadata": {},
   "outputs": [
    {
     "data": {
      "text/plain": [
       "0.6521282152362877"
      ]
     },
     "execution_count": 112,
     "metadata": {},
     "output_type": "execute_result"
    }
   ],
   "source": [
    "reg.score(xtest,ytest)"
   ]
  },
  {
   "cell_type": "markdown",
   "id": "81985852",
   "metadata": {},
   "source": [
    "## Save the Trained Model"
   ]
  },
  {
   "cell_type": "markdown",
   "id": "d3c5c0ff",
   "metadata": {},
   "source": [
    "### By Pickle"
   ]
  },
  {
   "cell_type": "code",
   "execution_count": 113,
   "id": "5b59e282",
   "metadata": {},
   "outputs": [],
   "source": [
    "import pickle as pk\n",
    "pk.dump(reg,open('class_4_pk','wb'))  #Write Mode"
   ]
  },
  {
   "cell_type": "markdown",
   "id": "a518a59c",
   "metadata": {},
   "source": [
    "### By Joblib"
   ]
  },
  {
   "cell_type": "code",
   "execution_count": 114,
   "id": "adf45d11",
   "metadata": {},
   "outputs": [
    {
     "data": {
      "text/plain": [
       "['class_4_jbl']"
      ]
     },
     "execution_count": 114,
     "metadata": {},
     "output_type": "execute_result"
    }
   ],
   "source": [
    "import joblib as jbl\n",
    "jbl.dump(reg, 'class_4_jbl')"
   ]
  },
  {
   "cell_type": "markdown",
   "id": "611ae17e",
   "metadata": {},
   "source": [
    "## Open the Trained Model"
   ]
  },
  {
   "cell_type": "markdown",
   "id": "5777a2e0",
   "metadata": {},
   "source": [
    "### By Pickle"
   ]
  },
  {
   "cell_type": "code",
   "execution_count": 115,
   "id": "fc4ebb21",
   "metadata": {},
   "outputs": [
    {
     "data": {
      "text/plain": [
       "array([[1.73847219]])"
      ]
     },
     "execution_count": 115,
     "metadata": {},
     "output_type": "execute_result"
    }
   ],
   "source": [
    "model = pk.load(open('class_4_pk', 'rb'))\n",
    "model.predict([[71.00]])"
   ]
  },
  {
   "cell_type": "markdown",
   "id": "f780d687",
   "metadata": {},
   "source": [
    "### By Joblib"
   ]
  },
  {
   "cell_type": "code",
   "execution_count": 116,
   "id": "34e8e639",
   "metadata": {},
   "outputs": [
    {
     "data": {
      "text/plain": [
       "array([[1.73847219]])"
      ]
     },
     "execution_count": 116,
     "metadata": {},
     "output_type": "execute_result"
    }
   ],
   "source": [
    "model2 = jbl.load('class_4_jbl')\n",
    "model2.predict([[71.00]])"
   ]
  }
 ],
 "metadata": {
  "kernelspec": {
   "display_name": "Python 3 (ipykernel)",
   "language": "python",
   "name": "python3"
  },
  "language_info": {
   "codemirror_mode": {
    "name": "ipython",
    "version": 3
   },
   "file_extension": ".py",
   "mimetype": "text/x-python",
   "name": "python",
   "nbconvert_exporter": "python",
   "pygments_lexer": "ipython3",
   "version": "3.9.5"
  }
 },
 "nbformat": 4,
 "nbformat_minor": 5
}
